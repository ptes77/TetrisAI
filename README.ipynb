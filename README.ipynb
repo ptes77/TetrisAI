{
 "cells": [
  {
   "cell_type": "markdown",
   "metadata": {},
   "source": [
    "# Tetris AI in Python"
   ]
  },
  {
   "cell_type": "markdown",
   "metadata": {},
   "source": [
    "Version 1 of a Tetris AI written in Python"
   ]
  },
  {
   "cell_type": "markdown",
   "metadata": {},
   "source": [
    "How to use:\n",
    "\n",
    "In the __init__ constructor of the Tetris class, change the following values to preference:\n",
    "\n",
    "    self.ai: set to True if you want AI to play\n",
    "    self.terminal: set to True if you want output to Terminal. Otherwise, a tkinter canvas will be created (slows down dramatically as item handles add up --> not suitable for AI)\n",
    "    self.simp: set to True if simple outputs are desired. Otherwise, it will output information every time the score/move counter updates\n",
    "    self.speed: set to a non-negative integer that represents the delay in milliseconds between updates of the game state\n",
    "\n",
    "Then run the TetrisAI.py file from terminal or an IDE and enjoy!\n",
    "\n",
    "What will be added in the future:\n",
    "* Implementing parallelization by splitting the breadth-first search to different CUDA cores in a GPU. Will decrease computation time by 20x (estimated)\n",
    "* Adding a normalization factor to the weights in the algorithm/genome (currently, they tend to favor values in the range of 1e-9 and 1e-12)\n",
    "* Separating the TetrisAI.py file into smaller, more manageable files\n",
    "* Fixing the significant speed drop due to using too many tkinter.Canvas item handles\n",
    "* More data visualization during training (e.g. create a plot of the average fitness of each generation, correlation between specific paramters and fitness)\n",
    "* Output to CSV/other manageable file formats\n",
    "\n",
    "Keybinds:\n",
    "* Down arrow: move block down\n",
    "* Up arrow: rotate block 90 degrees clockwise\n",
    "* Left arrow: move block left\n",
    "* Right arrow: move block right\n",
    "* a/A: turn on/off AI\n",
    "* u/U: speed up the game\n",
    "* i/I: slow down the game\n",
    "* s/S: save current state of the game (for debugging purposes)\n",
    "* l/L: load saved state of the game (for debugging purposes)\n",
    "* q/Q: quit game"
   ]
  },
  {
   "cell_type": "code",
   "execution_count": null,
   "metadata": {},
   "outputs": [],
   "source": []
  }
 ],
 "metadata": {
  "kernelspec": {
   "display_name": "Python 3",
   "language": "python",
   "name": "python3"
  },
  "language_info": {
   "codemirror_mode": {
    "name": "ipython",
    "version": 3
   },
   "file_extension": ".py",
   "mimetype": "text/x-python",
   "name": "python",
   "nbconvert_exporter": "python",
   "pygments_lexer": "ipython3",
   "version": "3.6.7"
  }
 },
 "nbformat": 4,
 "nbformat_minor": 2
}
